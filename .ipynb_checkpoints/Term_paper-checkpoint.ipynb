{
 "cells": [
  {
   "cell_type": "markdown",
   "metadata": {},
   "source": [
    "We import some parts from qiskit library and other libraries."
   ]
  },
  {
   "cell_type": "code",
   "execution_count": null,
   "metadata": {},
   "outputs": [],
   "source": [
    "from qiskit import *\n",
    "from qiskit import Aer\n",
    "import numpy as np\n",
    "import matplotlib.pyplot as plt\n",
    "import statistics as st\n",
    "import scipy.optimize as sci\n",
    "from scipy.interpolate import interp1d as imp\n",
    "from scipy.stats import linregress as linreg\n",
    "from qiskit.tools.visualization import plot_bloch_multivector\n",
    "from qiskit.tools.visualization import plot_histogram\n",
    "from qiskit.tools.monitor import job_monitor\n"
   ]
  },
  {
   "cell_type": "markdown",
   "metadata": {},
   "source": [
    "we get simulators, we now have a quantum simulator, a satevector simulator and a simulator of IBM's cloud quantum machine."
   ]
  },
  {
   "cell_type": "code",
   "execution_count": null,
   "metadata": {},
   "outputs": [],
   "source": [
    "simulator = Aer.get_backend('qasm_simulator')\n",
    "statecomp = Aer.get_backend('statevector_simulator')\n",
    "# IBMQ.load_account()\n",
    "# provider = IBMQ.get_provider('ibm-q')\n",
    "# qcomp= provider.get_backend('ibmq_qasm_simulator')"
   ]
  },
  {
   "cell_type": "markdown",
   "metadata": {},
   "source": [
    "We now make our bits and basic circuit with measurement of qbit to realise it ."
   ]
  },
  {
   "cell_type": "code",
   "execution_count": null,
   "metadata": {},
   "outputs": [],
   "source": [
    "qbit = QuantumRegister(1,name='q0')\n",
    "cbit = ClassicalRegister(1,name='c0')\n",
    "qc = QuantumCircuit(qbit,cbit)\n",
    "qc.draw('mpl')"
   ]
  },
  {
   "cell_type": "markdown",
   "metadata": {},
   "source": [
    "We simulate our circuit with statevector simulator and present the qbit in bloch sphere."
   ]
  },
  {
   "cell_type": "code",
   "execution_count": null,
   "metadata": {},
   "outputs": [],
   "source": [
    "results = execute(qc, backend= statecomp).result()\n",
    "statevector = results.get_statevector()\n",
    "plot_bloch_multivector(statevector)"
   ]
  },
  {
   "cell_type": "markdown",
   "metadata": {},
   "source": [
    "We rotate the qbit by $\\theta$ angle along an axis say y-axis and then measure the probability of the statevector in computational basis states $ |0> $ and $|1>$ .\n",
    "The rotation operator is $e^{-i\\sigma_y\\frac{\\theta}{2}}|0⟩$ \n",
    "\n",
    "The probability of measuring the state $|0>$ of this qbit is : \n",
    "$$\\left|⟨0|e^{-i\\sigma_y\\frac{\\varphi}{2}}|0⟩\\right|^2 = \\left|⟨0|\\cos\\left(\\frac{\\varphi}{2}\\right)|0⟩ + ⟨0|\\sin\\left(\\frac{\\varphi}{2}\\right)|1⟩\\right|^2 = \\cos^2\\left(\\frac{\\varphi}{2}\\right)$$\n",
    "And porbability of measuring the state $|1>$ is \n",
    "$$\\left|⟨1|e^{-i\\sigma_y\\frac{\\varphi}{2}}|0⟩\\right|^2 = \\left|⟨1|\\cos\\left(\\frac{\\varphi}{2}\\right)|0⟩ + ⟨1|\\sin\\left(\\frac{\\varphi}{2}\\right)|1⟩\\right|^2 = \\sin^2\\left(\\frac{\\varphi}{2}\\right)$$\n",
    "\n",
    "We can now change $\\theta$ and the difference between the angle when these probability would become their maximum would be a complete opposite rotation that is the angle $\\pi$"
   ]
  },
  {
   "cell_type": "markdown",
   "metadata": {},
   "source": [
    "For this we apply a rotational gate on qbit and rotate the bit intially by an angle 3.14 radian our intial guess of $\\pi$. The gate is $R_Y(\\theta)$ applied in qiskit using the $U(\\theta, 0, 0)$ command that rorate about y-axis by $\\theta$."
   ]
  },
  {
   "cell_type": "code",
   "execution_count": null,
   "metadata": {},
   "outputs": [],
   "source": [
    "theta = 3.14 \n",
    "\n",
    "qc.ry(theta,qbit)\n",
    "\n",
    "qc.measure(qbit, cbit)\n",
    "qc.draw('mpl')"
   ]
  },
  {
   "cell_type": "markdown",
   "metadata": {},
   "source": [
    "This gives us the basic gate and measurement application. We apply this multiple times with different values of $\\theta$ "
   ]
  },
  {
   "cell_type": "code",
   "execution_count": null,
   "metadata": {},
   "outputs": [],
   "source": [
    "qc = QuantumCircuit(qbit, cbit)\n",
    "qc.draw('mpl')"
   ]
  },
  {
   "cell_type": "code",
   "execution_count": null,
   "metadata": {},
   "outputs": [],
   "source": [
    "n_iter = 200\n",
    "# range of pi from 3 to 4\n",
    "rang = [0.1,6.5]\n",
    "theta = np.linspace(rang[0], rang[1], n_iter)\n",
    "# list of qtm circuits \n",
    "qc_l = []\n",
    "\n",
    "# all circuits are same with different theta value only\n",
    "for i in range(n_iter):\n",
    "    qc_l.append(qc.copy())\n",
    "    qc_l[i].ry(-theta[i],qbit)\n",
    "    qc_l[i].measure(qbit, cbit)"
   ]
  },
  {
   "cell_type": "markdown",
   "metadata": {},
   "source": [
    "We now have 100 seperate circuits with different theta angles, now we simulate these circuits : "
   ]
  },
  {
   "cell_type": "code",
   "execution_count": null,
   "metadata": {},
   "outputs": [],
   "source": [
    "# empty counts list \n",
    "counts = []\n",
    "shot = 10000\n",
    "for i in range(n_iter):\n",
    "    job = execute(qc_l[i], backend=simulator, shots= shot)\n",
    "    counts.append(job.result().get_counts())"
   ]
  },
  {
   "cell_type": "code",
   "execution_count": null,
   "metadata": {},
   "outputs": [],
   "source": [
    "#Plotting a random measurement outcome\n",
    "plot_histogram(counts[np.random.randint(200)])"
   ]
  },
  {
   "cell_type": "markdown",
   "metadata": {},
   "source": [
    "Plotting this probability of measuring 1 vs the angle of rotation is : "
   ]
  },
  {
   "cell_type": "code",
   "execution_count": null,
   "metadata": {},
   "outputs": [],
   "source": [
    "countsOf1 = []\n",
    "for _ in counts:\n",
    "    if '1' in _:\n",
    "        countsOf1.append(_['1']/shot)\n",
    "    else:\n",
    "        countsOf1.append(0)\n",
    "\n",
    "plt.figure(figsize=(8, 6))\n",
    "plt.plot(theta, countsOf1, 'ro-')\n",
    "plt.xlabel('theta'); plt.ylabel('Probability of outcome 1')\n",
    "plt.show()"
   ]
  },
  {
   "cell_type": "code",
   "execution_count": null,
   "metadata": {},
   "outputs": [],
   "source": [
    "max_i = countsOf1.index(max(countsOf1))\n",
    "theta_max = theta[max_i]\n",
    "print('Maximum probability of 1 occurs at theta (in radians) = ', theta_max)"
   ]
  },
  {
   "cell_type": "markdown",
   "metadata": {},
   "source": [
    "Making the whole thing as a single function so as to iterate it multiple times to get maximum $\\theta$ for each iteration "
   ]
  },
  {
   "cell_type": "code",
   "execution_count": null,
   "metadata": {},
   "outputs": [],
   "source": [
    "\n",
    "def CalculatePi(simulator,shots,n,rang,plot) -> list :\n",
    "    qc_l = []\n",
    "    counts = []\n",
    "    countsOf1 = []\n",
    "\n",
    "    qbit = QuantumRegister(1,name='q0')\n",
    "    cbit = ClassicalRegister(1,name='c0')\n",
    "    qc = QuantumCircuit(qbit,cbit)\n",
    "    theta = np.linspace(rang[0],rang[1],n)\n",
    "    \n",
    "    for i in range(n):\n",
    "        qc_l.append(qc.copy())\n",
    "        qc_l[i].ry(-theta[i],qbit)\n",
    "        qc_l[i].measure(qbit, cbit)\n",
    "    \n",
    "    for i in range(n):\n",
    "        job = execute(qc_l[i], backend=simulator, shots= shots)\n",
    "        # job_monitor(job)\n",
    "        counts.append(job.result().get_counts())\n",
    "    \n",
    "    for _ in counts:\n",
    "        if '1' in _:\n",
    "            countsOf1.append(_['1']/shot)\n",
    "        else:\n",
    "            countsOf1.append(0)\n",
    "    \n",
    "    max_i = countsOf1.index(max(countsOf1))\n",
    "    theta_max = theta[max_i]\n",
    "\n",
    "    if plot:\n",
    "        plt.figure(figsize=(8, 6))\n",
    "        plt.plot(theta, countsOf1, 'ro-')\n",
    "        plt.xlabel('theta')\n",
    "        plt.ylabel('Probability')\n",
    "        plt.tight_layout\n",
    "        plt.show()\n",
    "        print('maximum at angle :', theta_max)\n",
    "    \n",
    "    return theta, countsOf1, theta_max"
   ]
  },
  {
   "cell_type": "markdown",
   "metadata": {},
   "source": [
    "We now run this function for some iterations get the $\\theta$ corresponding to the maximum from all of them then take average and standard deviation for our conclusive data of realised value of $\\pi$."
   ]
  },
  {
   "cell_type": "code",
   "execution_count": null,
   "metadata": {},
   "outputs": [],
   "source": [
    "run = 10\n",
    "pi_s = []\n",
    "for i in range(run):\n",
    "    theta, countsOf1, approxpi = CalculatePi(simulator, shots=4000, n=1000, rang = [0.1,6.5], plot = False)\n",
    "    pi_s.append(approxpi)\n",
    "\n",
    "print('Pi = ', sum(pi_s)/run)\n",
    "print('Standard deviation in values of pi is : ', st.pstdev(pi_s))"
   ]
  },
  {
   "cell_type": "markdown",
   "metadata": {},
   "source": [
    "There can be multiple reasons of error in our experiment from the base intial state of qbit being a 100% $|0>$, rotation along y-axis being acurate and then the measurement error. To mitigate these errors the paper transformes the original parameters as a linear combination of another parameter. Basically they did OLS of each parameter along a realised parameter. The probability of getting 1 after rotation by $\\theta$ angle is given by \n",
    "$$\\left|⟨1|e^{-i\\sigma_y\\frac{\\varphi}{2}}|0⟩\\right|^2 = \\left|⟨1|\\cos\\left(\\frac{\\varphi}{2}\\right)|0⟩ + ⟨1|\\sin\\left(\\frac{\\varphi}{2}\\right)|1⟩\\right|^2 = \\sin^2\\left(\\frac{\\varphi}{2}\\right)$$\n",
    "$$ \\sin^2\\left(\\frac{\\varphi}{2}\\right)  = \\frac {1-\\cos(\\varphi)}{2}$$\n",
    "Probability = $ \\frac {1-\\cos(\\theta)}{2} $ but doing OLS on this probability as well as our intial parameter $\\theta$ the fitted probability could be given by \n",
    "$$ P(t) = \\alpha \\frac {1-\\cos(ct + \\phi)}{2} + \\beta$$\n",
    "we make a new function for this fitted probability as :"
   ]
  },
  {
   "cell_type": "code",
   "execution_count": null,
   "metadata": {},
   "outputs": [],
   "source": [
    "def P(t,a,b,c,d):\n",
    "    return a*(1-np.cos(c*t+d))/2 + b"
   ]
  },
  {
   "cell_type": "markdown",
   "metadata": {},
   "source": [
    "We take a data "
   ]
  },
  {
   "cell_type": "code",
   "execution_count": null,
   "metadata": {},
   "outputs": [],
   "source": [
    "t, countsOf1, approxpi = CalculatePi(simulator, shots=5000, n=200, rang = [0.1,6.5], plot = False)"
   ]
  },
  {
   "cell_type": "markdown",
   "metadata": {},
   "source": [
    "And fit it to our function to get intiaL values of our OLS variables."
   ]
  },
  {
   "cell_type": "code",
   "execution_count": null,
   "metadata": {},
   "outputs": [],
   "source": [
    "# curve fit function of scipy library taken here with intial guesses of parameters in p0 and bounds in bounds.\n",
    "ajust = sci.curve_fit( P, t, countsOf1, p0 = [1., 0., 1., 0.], bounds = ( [-1., -1., -3, -np.pi], [2., 1., 3, np.pi] ) )\n",
    "a, b, c, d = ajust[0]\n",
    "# the standard deviation ones \n",
    "sa, sb, sc, sd = np.sqrt(np.diag(ajust[1]))\n",
    "\n",
    "print('The realised values using Ordinary least square error are ')\n",
    "print('a= ', a, ' +- ', sa)\n",
    "print('b= ', b, ' +- ', sb)\n",
    "print('c= ', c, ' +- ', sc)\n",
    "print('d= ', d, ' +- ', sd)"
   ]
  },
  {
   "cell_type": "markdown",
   "metadata": {},
   "source": [
    "Plot this realised value w.r.t our plot "
   ]
  },
  {
   "cell_type": "code",
   "execution_count": null,
   "metadata": {},
   "outputs": [],
   "source": [
    "plt.figure(figsize=(8,6))\n",
    "plt.plot(t, countsOf1, 'r.', label='Data')\n",
    "plt.plot(t, P(t, a, b, c, d), 'b-', label='adjusted data')\n",
    "plt.xlabel('t')\n",
    "plt.ylabel('p')\n",
    "plt.legend(loc='upper right')\n",
    "plt.tight_layout() \n",
    "plt.show()"
   ]
  },
  {
   "cell_type": "markdown",
   "metadata": {},
   "source": [
    "getting this equation's \n",
    "$$ P(t) = \\alpha \\frac {1-\\cos(ct + \\phi)}{2} + \\beta$$\n",
    "the value of fitted $\\beta$ and $\\alpha$ as \n",
    "- $\\hat{\\beta} = \\min_t P(t)$\n",
    "- $\\hat{\\alpha} = \\max_t P(t) - \\hat{\\beta}$"
   ]
  },
  {
   "cell_type": "code",
   "execution_count": null,
   "metadata": {},
   "outputs": [],
   "source": [
    "bhat = min(countsOf1) \n",
    "ahat = max(countsOf1)- bhat\n",
    "print('beta hat = ', bhat); print('alpha hat = ', ahat)"
   ]
  },
  {
   "cell_type": "markdown",
   "metadata": {},
   "source": [
    "Using this data we get the p1($t$) equation as \n",
    "$$ p_1(t) = \\frac{P(t) - \\hat \\beta}{\\hat \\alpha}$$"
   ]
  },
  {
   "cell_type": "code",
   "execution_count": null,
   "metadata": {},
   "outputs": [],
   "source": [
    "p1s = ( np.array(countsOf1) - bhat ) / ahat"
   ]
  },
  {
   "cell_type": "code",
   "execution_count": null,
   "metadata": {},
   "outputs": [],
   "source": [
    "#divide the list in 2 sets from maximum point\n",
    "t_split = list(p1s).index(max(p1s))\n",
    "p1s1 = p1s[:t_split]\n",
    "p1s2 = p1s[t_split:]\n",
    "#Interpolate the intial counts value and respective t values \n",
    "intp1 = imp(p1s1, t[:t_split])\n",
    "# value of this interpolate at half counts\n",
    "t1 = intp1(0.5)\n",
    "intp2 = imp(p1s2, t[t_split:])\n",
    "t2 = intp2(0.5)\n",
    "plt.figure(figsize=(8,6))\n",
    "plt.plot(t, p1s, 'r.-', label='data points')\n",
    "plt.plot([t1, t1], [0, 1], 'b-', label='t1')\n",
    "plt.plot([t2, t2], [0, 1], 'g-', label='t2')\n",
    "plt.xlabel('t'); plt.ylabel('probability of outcome 1')\n",
    "plt.legend(loc='upper right')\n",
    "plt.tight_layout(); plt.show()"
   ]
  },
  {
   "cell_type": "markdown",
   "metadata": {},
   "source": [
    "This $t_1$ and $t_2$ are basically the $\\pi/2$ and $3\\pi/2$ values."
   ]
  },
  {
   "cell_type": "markdown",
   "metadata": {},
   "source": [
    "Now we have $t_1 = t_{min}$ and $t_2 = t_{max}$ we can re-estimate them for local correction as $\\hat{\\alpha}$ and $\\hat{\\beta}$ by averaging them over realises values as:\n",
    "$\\left\\{\\begin{array}{l}\\operatorname{mean}\\left\\{p_{1}(t)\\left|t-\\hat{t}_{\\text{min }}\\right|<\\delta\\right\\}=\\hat{\\beta} \\\\ \\operatorname{mean}\\left\\{p_{1}(t) \\left| t-\\hat{t}_{\\text {max}}\\right|<\\delta\\right\\}=\\hat{\\alpha}+\\hat{\\beta}\\end{array}\\right.$"
   ]
  },
  {
   "cell_type": "code",
   "execution_count": null,
   "metadata": {},
   "outputs": [],
   "source": [
    "# Using small delta to estimate \n",
    "delta = 0.1; tmax = (t1+t2)/2; tmin = 2 * tmax\n",
    "# getting index of p1s's which are near to the t1 and t2.\n",
    "index1 = [ _  for _ in range(n_iter) if abs( t[_] - tmin ) < delta ]\n",
    "index2 = [ _  for _ in range(n_iter) if abs( t[_] - tmax ) < delta ]\n",
    "# a and b using this t1 and t2 nearby averaging them for local values\n",
    "b = sum(p1s[index1])/len(index1)\n",
    "a = sum(p1s[index2])/len(index2) - b\n",
    "\n",
    "print('a = ', a); print('b = ', b)"
   ]
  },
  {
   "cell_type": "code",
   "execution_count": null,
   "metadata": {},
   "outputs": [],
   "source": [
    "p2s = ( np.array(p1s) - b ) / a"
   ]
  },
  {
   "cell_type": "markdown",
   "metadata": {},
   "source": [
    "Now we perform linear regression on them in local sperately for t1 and t2 to get them where we state the equation of graph is \n",
    "$$ LR(p(t)) = kt + \\gamma $$ \n",
    "for the value of p(t) = 0.5 (at $\\pi/2$ and $3\\pi/2$) from t1 and t2 we get  \n",
    "$$ t_{1,2} = \\frac{0.5 - k_{1,2}}{\\gamma_{1,2}}"
   ]
  },
  {
   "cell_type": "code",
   "execution_count": null,
   "metadata": {},
   "outputs": [],
   "source": [
    "#Filtering index no father than 0.5 from the points of t1 and t2\n",
    "index1 = [ _  for _ in range(n_iter) if abs( t[_] - t1 ) < 0.5 ]\n",
    "index2 = [ _  for _ in range(n_iter) if abs( t[_] - t2 ) < 0.5 ]\n",
    "\n",
    "#Adjusting the parameters\n",
    "result1 = linreg(t[index1], p2s[index1], alternative='less')\n",
    "k1, gamma1 = result1.intercept, result1.slope\n",
    "\n",
    "result2 = linreg(t[index2], p2s[index2], alternative='greater')\n",
    "k2, gamma2 = result2.intercept, result2.slope\n",
    "\n",
    "#Obtenemos los t\n",
    "t1 = (0.5 - k1) / gamma1 \n",
    "t2 = (0.5 - k2) / gamma2"
   ]
  },
  {
   "cell_type": "markdown",
   "metadata": {},
   "source": [
    "Plotting this new t1 and t2 we got from linear regressions for value 0.5 ."
   ]
  },
  {
   "cell_type": "code",
   "execution_count": null,
   "metadata": {},
   "outputs": [],
   "source": [
    "plt.figure(figsize=(8,6))\n",
    "plt.plot(t, p2s, 'r.-', label='data points')\n",
    "plt.plot([t1, t1], [0, 1], 'b-', label='t1')\n",
    "plt.plot([t2, t2], [0, 1], 'g-', label='t2')\n",
    "plt.xlabel('t'); plt.ylabel('p')\n",
    "plt.legend(loc='upper right')\n",
    "plt.tight_layout(); plt.show()"
   ]
  },
  {
   "cell_type": "markdown",
   "metadata": {},
   "source": [
    "Now we only have to do the integral I = $\\int^{t_2}_{t_1}\\left(p(t)-\\frac{1}{2}\\right) dt$ \n",
    "we won't be able to integrate using only line equation and the points t1 and t2 (we can if we use inbuilt integral from numpy library but we are using trapezoid intergral method)"
   ]
  },
  {
   "cell_type": "code",
   "execution_count": null,
   "metadata": {},
   "outputs": [],
   "source": [
    "I = 0.0\n",
    "interp = imp(t, p2s)\n",
    "#No of points for integration\n",
    "n_integral = 100\n",
    "\n",
    "deltaT = (t2-t1)/n_integral\n",
    "\n",
    "#trapeziod integrations with delta t \n",
    "for _ in range(n_integral): I += (interp(t1+_*deltaT)-0.5)\n",
    "I *= deltaT\n",
    "\n",
    "print('Integral = ', I)"
   ]
  },
  {
   "cell_type": "markdown",
   "metadata": {},
   "source": [
    "Pi now would be given as \n",
    "$$ \\pi = \\frac {t_2 - t_1}{\\int_{t_1}^{t_2} (p(t) - \\frac 1 2) dt}"
   ]
  },
  {
   "cell_type": "code",
   "execution_count": null,
   "metadata": {},
   "outputs": [],
   "source": [
    "pi = (t2 - t1) / I\n",
    "print('pi = ', pi)"
   ]
  },
  {
   "cell_type": "markdown",
   "metadata": {},
   "source": [
    "Making a function out this this complete since the creation of our t, counts,max t giving function to simulate multiple iterations to get different values of $\\pi$ each time. This function takes in the no. of values you want between your range of angle, the counts how many times you want the experiment to occur for each angle,and the angle of maximum count1."
   ]
  },
  {
   "cell_type": "code",
   "execution_count": null,
   "metadata": {},
   "outputs": [],
   "source": [
    "def GetPi(t, countsOf1,t_max, n_iter) -> float:\n",
    "    # using min and max value of CountsOf1 to get bhat and ahat\n",
    "    bhat = min(countsOf1) ; ahat = max(countsOf1)- bhat\n",
    "    p1s = ( np.array(countsOf1) - bhat ) / ahat\n",
    "    #splitting the list into two \n",
    "    t_split = list(p1s).index(max(p1s))\n",
    "    counts21 = p1s[:t_split]; counts22 = p1s[t_split:]\n",
    "    interp1 = imp(counts21, t[:t_split]); t1 = interp1(0.5)\n",
    "    interp2 = imp(counts22, t[t_split:]); t2 = interp2(0.5)\n",
    "    # applying out intial assumption values that is ahat and bhat\n",
    "    delta = 0.1; tmax = (t1+t2)/2; tmin = 2 * tmax\n",
    "    index1 = [ _  for _ in range(n_iter) if abs( t[_] - tmin ) < delta ]\n",
    "    index2 = [ _  for _ in range(n_iter) if abs( t[_] - tmax ) < delta ]\n",
    "    bhat = sum(p1s[index1])/len(index1)\n",
    "    ahat = sum(p1s[index2])/len(index2) - bhat\n",
    "\n",
    "    p2s = ( np.array(p1s) - bhat ) / ahat\n",
    "    # applying linear regression again on p2s this time for our internal parameter t as theta = ct + phi\n",
    "    index1 = [ _  for _ in range(n_iter) if abs( t[_] - t1 ) < 0.5 ]\n",
    "    index2 = [ _  for _ in range(n_iter) if abs( t[_] - t2 ) < 0.5 ]\n",
    "\n",
    "    result1 = linreg(t[index1], p2s[index1], alternative='less')\n",
    "    k1, gamma1 = result1.intercept, result1.slope\n",
    "    result2 = linreg(t[index2], p2s[index2], alternative='greater')\n",
    "    k2, gamma2 = result2.intercept, result2.slope\n",
    "\n",
    "    t1 = (0.5 - k1) / gamma1; t2 = (0.5 - k2) / gamma2\n",
    "    # getting integral of our linear regressed models \n",
    "    I = 0.0; interp = imp(t, p2s)\n",
    "    n_integral = 100; deltaT = (t2-t1)/n_integral\n",
    "    for _ in range(n_integral): I += (interp(t1+_*deltaT)-0.5)\n",
    "    I *= deltaT; pi = (t2 - t1) / I\n",
    "\n",
    "    return pi"
   ]
  },
  {
   "cell_type": "markdown",
   "metadata": {},
   "source": [
    "Running this function n times to get $<\\pi>$"
   ]
  },
  {
   "cell_type": "code",
   "execution_count": null,
   "metadata": {},
   "outputs": [],
   "source": [
    "runs = 20\n",
    "pi_s = []\n",
    "for i in range(runs):\n",
    "    t, counts1, t_max = CalculatePi(simulator = Aer.get_backend('qasm_simulator'), shots = 4000, n = 200, rang = [0.1,6.5], plot = False)\n",
    "    pi_s.append(GetPi(t, counts1, t_max, n_iter))\n",
    "\n",
    "print('Pi = ', sum(pi_s)/runs)\n",
    "print(\"Standard deviation in measuring pi = \", st.pstdev(pi_s) )"
   ]
  },
  {
   "cell_type": "markdown",
   "metadata": {},
   "source": [
    "Thus the value of pi is "
   ]
  },
  {
   "cell_type": "code",
   "execution_count": null,
   "metadata": {},
   "outputs": [],
   "source": [
    "print(\" Pi = \", np.round( sum(pi_s)/runs, 6) , ' +- ', np.round(st.pstdev(pi_s), 6))"
   ]
  },
  {
   "cell_type": "markdown",
   "metadata": {},
   "source": [
    "To use IBM's quantum computer for the result the code is below :\n",
    "Note only run if you dare to use up resources cause even value of pi being calculates is easily 16 decimals but IBM's cloud only provide limited resources so it goes out of limit sometimes. My account says the process is still in waitlist."
   ]
  },
  {
   "cell_type": "code",
   "execution_count": null,
   "metadata": {},
   "outputs": [],
   "source": [
    "from qiskit import IBMQ; from qiskit.providers.ibmq import least_busy\n",
    "from qiskit.tools.monitor import job_monitor\n",
    "IBMQ.load_account()\n",
    "provider = IBMQ.get_provider(hub='ibm-q')\n",
    "best_backend = least_busy(provider.backends(filters=lambda x: int(x.configuration().n_qubits) >= 2 \n",
    "                                and not x.configuration().simulator \n",
    "                                and x.status().operational==True))\n",
    "\n",
    "runs = 1\n",
    "pi_s = []\n",
    "for i in range(runs):\n",
    "    t, counts1, t_max = CalculatePi(simulator = best_backend, shots = 1000, n = 50, rang = [0.1,6.5], plot = False)\n",
    "    pi_s.append(GetPi(t, counts1, t_max, n_iter))\n",
    "\n",
    "print('Pi = ', sum(pi_s)/runs)\n",
    "print(\"Standard deviation in measuring pi = \", st.pstdev(pi_s) )"
   ]
  }
 ],
 "metadata": {
  "kernelspec": {
   "display_name": "Python 3",
   "language": "python",
   "name": "python3"
  },
  "language_info": {
   "codemirror_mode": {
    "name": "ipython",
    "version": 3
   },
   "file_extension": ".py",
   "mimetype": "text/x-python",
   "name": "python",
   "nbconvert_exporter": "python",
   "pygments_lexer": "ipython3",
   "version": "3.9.1"
  }
 },
 "nbformat": 4,
 "nbformat_minor": 2
}
